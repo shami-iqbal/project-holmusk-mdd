{
 "cells": [
  {
   "cell_type": "code",
   "execution_count": 1,
   "metadata": {},
   "outputs": [],
   "source": [
    "import pandas as pd\n",
    "import plotly.graph_objs as go\n",
    "from plotly.subplots import make_subplots\n",
    "import math\n",
    "import numpy as np\n",
    "import sys\n",
    "import seaborn as sns\n",
    "import matplotlib.pyplot as plt\n",
    "sys.path.insert(0, '..')\n",
    "\n",
    "from src.constants import (\n",
    "    COLUMNS_TO_CLEAN,\n",
    "    CATEGORICAL_COLUMNS,\n",
    "    DESCRIPTIONS\n",
    ")\n",
    "from src.data_analysis import create_treatment_combination\n",
    "from src.data_cleaning import clean_columns\n"
   ]
  },
  {
   "cell_type": "markdown",
   "metadata": {},
   "source": [
    "### Load data"
   ]
  },
  {
   "cell_type": "code",
   "execution_count": null,
   "metadata": {},
   "outputs": [],
   "source": [
    "df_bill_amount = pd.read_csv('data/bill_amount.csv')\n",
    "df_bill_id = pd.read_csv('data/bill_id.csv')\n",
    "df_clinical_data = pd.read_csv('data/clinical_data.csv')\n",
    "df_demographics = pd.read_csv('data/demographics.csv')"
   ]
  },
  {
   "cell_type": "markdown",
   "metadata": {},
   "source": [
    "### Merging datasets\n",
    "#### I am merging the df_bill_amount and df_bill_id into one df called df_patient_billing."
   ]
  },
  {
   "cell_type": "code",
   "execution_count": null,
   "metadata": {},
   "outputs": [],
   "source": [
    "df_patient_billing = (\n",
    "    df_bill_id.merge(df_bill_amount, on=\"bill_id\", how='left') \n",
    ") \n",
    "df_patient_billing['date_of_admission'] = pd.to_datetime(df_patient_billing['date_of_admission'])"
   ]
  },
  {
   "cell_type": "markdown",
   "metadata": {},
   "source": [
    "#### Merging clinical data and demographics"
   ]
  },
  {
   "cell_type": "code",
   "execution_count": null,
   "metadata": {},
   "outputs": [],
   "source": [
    "df_patient_dataset = (df_clinical_data.merge(df_demographics, left_on='id', right_on='patient_id', how='left'))\n",
    "df_patient_dataset = df_patient_dataset.drop(columns=['patient_id'])\n",
    "df_patient_dataset = df_patient_dataset.rename(columns={'id': 'patient_id'})\n",
    "\n",
    "df_patient_dataset['date_of_admission'] = pd.to_datetime(df_patient_dataset['date_of_admission'])\n",
    "df_patient_dataset['date_of_discharge'] = pd.to_datetime(df_patient_dataset['date_of_discharge'])"
   ]
  },
  {
   "cell_type": "code",
   "execution_count": null,
   "metadata": {},
   "outputs": [],
   "source": [
    "## Printing unique values in race, gender and resident_status \n",
    "print(df_patient_dataset['race'].unique())\n",
    "print(df_patient_dataset['gender'].unique())\n",
    "print(df_patient_dataset['resident_status'].unique())"
   ]
  },
  {
   "cell_type": "markdown",
   "metadata": {},
   "source": [
    "### Data cleaning \n"
   ]
  },
  {
   "cell_type": "code",
   "execution_count": null,
   "metadata": {},
   "outputs": [],
   "source": [
    "# cleaning numerical columns\n",
    "df_patient_dataset = clean_columns(df_patient_dataset, COLUMNS_TO_CLEAN)\n",
    "\n",
    "# cleaning gender and race and resident status\n",
    "df_patient_dataset['gender'] = df_patient_dataset['gender'].replace({'m': 'Male', 'f': 'Female'})\n",
    "df_patient_dataset['race'] = df_patient_dataset['race'].replace({'chinese': 'Chinese', 'India': 'Indian'})\n",
    "df_patient_dataset['resident_status'] = df_patient_dataset['resident_status'].replace({'Singapore citizen': 'Singaporean'})\n",
    "\n",
    "# creating a new column called age \n",
    "df_patient_dataset['date_of_birth'] = pd.to_datetime(df_patient_dataset['date_of_birth'])  \n",
    "df_patient_dataset['patient_age'] = (df_patient_dataset['date_of_admission'] - df_patient_dataset['date_of_birth']).dt.days // 365"
   ]
  },
  {
   "cell_type": "code",
   "execution_count": null,
   "metadata": {},
   "outputs": [],
   "source": [
    "# Filter df_patient_billing for relevant records\n",
    "relevant_bills = df_patient_billing[\n",
    "    df_patient_billing.apply(lambda row: any(\n",
    "        (df_patient_dataset['patient_id'] == row['patient_id']) & \n",
    "        (df_patient_dataset['date_of_admission'] <= row['date_of_admission']) & \n",
    "        (df_patient_dataset['date_of_discharge'] >= row['date_of_admission'])\n",
    "    ), axis=1)\n",
    "]\n",
    "\n",
    "# Group by patient_id and date_of_admission, and sum amounts\n",
    "grouped_bills = relevant_bills.groupby(['patient_id', 'date_of_admission'])['amount'].sum().round(3).reset_index()\n",
    "\n",
    "# Merge the grouped data back into df_patient_dataset\n",
    "df_patient_dataset = pd.merge(df_patient_dataset, grouped_bills, on=['patient_id', 'date_of_admission'], how='left').fillna(0)\n",
    "df_patient_dataset = df_patient_dataset.rename(columns={'amount': 'billing_amount'})\n",
    "\n",
    "# Creating age groups\n",
    "bins = [0, 10, 20, 30, 40, 50, 60, 70, 80, 90, 100]\n",
    "labels = ['0-10', '11-20', '21-30', '31-40', '41-50', '51-60', '61-70', '71-80', '81-90', '91-100']\n",
    "df_patient_dataset['age_group'] = pd.cut(df_patient_dataset['patient_age'], bins=bins, labels=labels, right=False)"
   ]
  },
  {
   "cell_type": "code",
   "execution_count": null,
   "metadata": {},
   "outputs": [],
   "source": [
    "# Count the number of times billing_amount is 0\n",
    "count_zero_billing = (df_patient_dataset['billing_amount'] == 0).sum()\n",
    "print(f'The number of times billing_amount is 0: {count_zero_billing}')\n",
    "\n",
    "count = (df_patient_dataset['date_of_discharge'] < df_patient_dataset['date_of_admission']).sum()\n",
    "print(f'The number of times date of discharge is before admission: {count}')\n",
    "\n",
    "# Count the number of unique patient IDs in the dataset\n",
    "unique_patient_ids = df_patient_dataset['patient_id'].nunique()\n",
    "print(\"Number of unique patient IDs:\", unique_patient_ids)\n",
    "\n",
    "# Count occurrences of each patient_id\n",
    "patient_id_counts = df_patient_dataset['patient_id'].value_counts()\n",
    "\n",
    "# Count how many patient_ids appear multiple times and how many appear only once\n",
    "multiple_records = (patient_id_counts > 1).sum()\n",
    "single_record = (patient_id_counts == 1).sum()\n",
    "\n",
    "print(f\"Patient IDs with multiple records: {multiple_records}\")\n",
    "print(f\"Patient IDs with a single record: {single_record}\")"
   ]
  },
  {
   "cell_type": "code",
   "execution_count": null,
   "metadata": {},
   "outputs": [],
   "source": [
    "### Stacking to reduce the number of lines for multiple lines for a patient \n",
    "# List of columns for which 'first' should be used\n",
    "columns_use_last = ['gender', 'race', 'resident_status', 'date_of_birth', 'age_group']\n",
    "\n",
    "# Create the aggregation dictionary\n",
    "agg_dict = {col: 'last' for col in columns_use_last}\n",
    "agg_dict.update({col: 'max' for col in df_patient_dataset.columns if col not in columns_use_last})\n",
    "\n",
    "# Group by 'patient_id' and aggregate\n",
    "df_patient_dataset = df_patient_dataset.groupby('patient_id').agg(agg_dict)\n",
    "\n",
    "# Rename the index (which is currently 'patient_id') before resetting it\n",
    "df_patient_dataset.index.rename('patient_index', inplace=True)\n",
    "\n",
    "# Now reset the index; 'patient_id' will be added as a column without conflict\n",
    "df_patient_dataset.reset_index(inplace=True)\n",
    "\n",
    "## Drop the index\n",
    "df_patient_dataset.reset_index(drop=True, inplace=True)\n",
    "df_patient_dataset.rename(columns={'patient_index': 'patient_id'}, inplace=True)"
   ]
  },
  {
   "cell_type": "markdown",
   "metadata": {},
   "source": [
    "**Data Cleaning**\n",
    "\n",
    "**Overview:**\n",
    "\n",
    "Our data analysis focused on a dataset containing patient records, with an emphasis on billing information, admission and discharge dates, and patient demographics. The dataset originally consisted of 3000 unique patient IDs with varying levels of detail.\n",
    "\n",
    "1. **Billing Data Availability**: A significant portion of the records (1877 instances) had a billing amount of zero. This suggests that billing data is not consistently available across the dataset.\n",
    "\n",
    "2. **Inconsistencies in Admission and Discharge Dates**: There were 1206 instances where the discharge date preceded the admission date, indicating discrepancies in these records.\n",
    "\n",
    "3. **Patient Record Distribution**: Out of the 3000 unique patient IDs, a majority (2621) had only a single record associated with them. The remaining 379 patients had multiple records.\n",
    "\n",
    "**Data Processing and Analysis Steps:**\n",
    "\n",
    "1. **Parsing Dates**: We encountered issues with parsing `date_of_admission` and `date_of_discharge` fields due to inconsistent formats. To resolve this, each element was parsed individually using `dateutil`, although specifying a format could improve consistency.\n",
    "\n",
    "2. **Data Aggregation Strategy - 'Trumping' Method**:\n",
    "   - To streamline the dataset and address the issue of multiple records per patient, we implemented a 'trumping' method. This approach ensured that each patient was represented by a single consolidated record.\n",
    "   - For numerical columns, we chose to use the maximum value where multiple records existed for a patient. This approach aimed to retain the most significant numerical data for each patient.\n",
    "   - For non-numerical columns such as 'gender', 'race', 'resident_status', 'date_of_birth', and 'age_group', we decided to use the last value in the series of records. This choice was based on the assumption that the most recent non-numerical information would be the most accurate.\n",
    "   - We aggregated the data using the specified rules, grouping by 'patient_id'.\n"
   ]
  },
  {
   "cell_type": "markdown",
   "metadata": {},
   "source": [
    "## Plots to view data"
   ]
  },
  {
   "cell_type": "code",
   "execution_count": null,
   "metadata": {},
   "outputs": [],
   "source": [
    "subplot_titles = [f'{col}: {DESCRIPTIONS.get(col, \"\")}' for col in CATEGORICAL_COLUMNS]\n",
    "\n",
    "num_columns = 2\n",
    "num_rows = math.ceil(len(CATEGORICAL_COLUMNS) / num_columns)\n",
    "fig = make_subplots(rows=num_rows, cols=num_columns, subplot_titles=subplot_titles)\n",
    "for i, col in enumerate(CATEGORICAL_COLUMNS, start=1):\n",
    "    row = math.ceil(i / num_columns)\n",
    "    col_in_row = (i-1) % num_columns + 1\n",
    "\n",
    "    data = df_patient_dataset[col].value_counts()\n",
    "    fig.add_trace(\n",
    "        go.Bar(x=data.index, y=data.values, name=col),\n",
    "        row=row, col=col_in_row\n",
    "    )\n",
    "\n",
    "fig.update_layout(\n",
    "    height=300*num_rows, \n",
    "    width=1000, \n",
    "    title_text=\"Distribution of Categorical Columns\",\n",
    "    showlegend=False)\n",
    "fig.show()\n"
   ]
  },
  {
   "cell_type": "code",
   "execution_count": null,
   "metadata": {},
   "outputs": [],
   "source": [
    "## HeatMap\n",
    "\n",
    "numerical_columns = ['cgis_adm', 'cgis_dis', 'gaf_lv', 'weight', 'height'] \n",
    "correlation_matrix = df_patient_dataset[numerical_columns].corr()\n",
    "\n",
    "# Plotting the heatmap\n",
    "plt.figure(figsize=(10, 8))\n",
    "sns.heatmap(correlation_matrix, annot=True, cmap='coolwarm')\n",
    "plt.title('Correlation Matrix of Numerical Variables')\n",
    "plt.show()"
   ]
  },
  {
   "cell_type": "markdown",
   "metadata": {},
   "source": [
    "### Research Question\n",
    "#### Effectiveness of Combined Treatments\n",
    "\n",
    "**Question:** \"Does co-prescribing adjunctive medications (e.g., antipsychotics, anticonvulsants, lithium) alongside antidepressants lead to better outcomes in MDD patients compared to antidepressants alone?\"\n",
    "#### Analysis Approach:\n",
    "**Grouping:** Divide the dataset into two groups - patients receiving only antidepressants (trt_adt) and patients receiving antidepressants along with adjunctive medications (trt_anx, trt_con, trt_oth).\n",
    "\n",
    "**Outcome Measures:** Use the 'cgis_adm' and 'cgis_dis' scores to assess severity at admission and discharge. Improvement can be measured as the difference between these scores."
   ]
  },
  {
   "cell_type": "code",
   "execution_count": null,
   "metadata": {},
   "outputs": [],
   "source": [
    "\n",
    "df_patient_dataset['cgis_change'] = df_patient_dataset['cgis_dis'] - df_patient_dataset['cgis_adm']\n",
    "\n",
    "# Define the two groups\n",
    "# Group 1: Patients on antidepressants alone\n",
    "df_patient_dataset['group'] = 'Antidepressants Only'\n",
    "df_patient_dataset.loc[(df_patient_dataset['trt_adt'] == 1) \n",
    "                       & ((df_patient_dataset['trt_anx'] == 1) \n",
    "                          | (df_patient_dataset['trt_con'] == 1) |\n",
    "                            (df_patient_dataset['trt_ssr'] == 1) | \n",
    "                            (df_patient_dataset['trt_the'] == 1) |\n",
    "                            (df_patient_dataset['trt_oth'] == 1)), 'group'] = 'Combined Treatment'\n",
    "\n",
    "print(df_patient_dataset['group'].value_counts())\n"
   ]
  },
  {
   "cell_type": "code",
   "execution_count": null,
   "metadata": {},
   "outputs": [],
   "source": [
    "from scipy.stats import ttest_ind\n",
    "\n",
    "# Selecting the outcome variable for comparison\n",
    "outcome_variable = 'cgis_change'  # or 'gaf_lv' based on your choice\n",
    "\n",
    "# Grouping the data\n",
    "group1 = df_patient_dataset[df_patient_dataset['group'] == 'Antidepressants Only'][outcome_variable]\n",
    "group2 = df_patient_dataset[df_patient_dataset['group'] == 'Combined Treatment'][outcome_variable]\n",
    "\n",
    "# Performing t-test\n",
    "t_stat, p_value = ttest_ind(group1, group2, nan_policy='omit')\n",
    "\n",
    "print(f'T-test results: Statistic={t_stat}, P-value={p_value}')\n"
   ]
  },
  {
   "cell_type": "markdown",
   "metadata": {},
   "source": [
    "### T-test Results Interpretation\n",
    "\n",
    "- **T-statistic**: 1.7451\n",
    "- **P-value**: 0.0811\n",
    "\n",
    "#### What Does This Mean?\n",
    "\n",
    "1. **T-Statistic (1.7451)**:\n",
    "   - This value, derived from your t-test, measures the difference between the two groups (Antidepressants Only vs. Combined Treatment) in terms of standard error. A t-statistic of 1.7451 indicates a moderate difference between the average CGIS score changes of these groups.\n",
    "   - The t-statistic is positive, suggesting that the mean change in CGIS scores in the 'Combined Treatment' group might be higher than in the 'Antidepressants Only' group, although this is not yet confirmed as significant.\n",
    "\n",
    "2. **P-Value (0.0811)**:\n",
    "   - The p-value is a measure of the probability that the observed results (or more extreme) would occur if there were no actual difference between the groups (null hypothesis). \n",
    "   - With a p-value of 0.0811, your results do not reach the conventional threshold for statistical significance (usually set at 0.05). This means that, based on your dataset and the t-test performed, the observed difference in treatment outcomes is not statistically significant at the 5% level.\n",
    "   - However, the p-value is relatively close to the significance threshold, which might suggest a possible trend or effect that could warrant further investigation, particularly with a larger sample size or different methodology."
   ]
  },
  {
   "cell_type": "code",
   "execution_count": null,
   "metadata": {},
   "outputs": [],
   "source": [
    "# Analyzing treatment effectiveness across age groups\n",
    "age_group_effectiveness = df_patient_dataset.groupby(['age_group', 'group'])['cgis_change'].mean().unstack()\n",
    "print(age_group_effectiveness)"
   ]
  },
  {
   "cell_type": "markdown",
   "metadata": {},
   "source": [
    "### Interpretation of the Results:\n",
    "- The mean change in CGIS scores across different age groups for both \"Antidepressants Only\" and \"Combined Treatment\" groups is provided.\n",
    "- For age groups with data, you can see how the average change in CGIS scores varies. This change is a proxy for the improvement or worsening of the condition."
   ]
  },
  {
   "cell_type": "code",
   "execution_count": null,
   "metadata": {},
   "outputs": [],
   "source": [
    "# Example: Analyzing the impact of anxiety history on treatment choice\n",
    "anxiety_treatment_analysis = df_patient_dataset.groupby(['medical_history_anx', 'group']).size().unstack()\n",
    "print(anxiety_treatment_analysis)\n"
   ]
  },
  {
   "cell_type": "markdown",
   "metadata": {},
   "source": [
    "- **Anxiety Disorder Influence**:\n",
    "  - Without Anxiety Disorder (medical_history_anx = 0): \n",
    "    - Antidepressants Only: 347 patients\n",
    "    - Combined Treatment: 1814 patients\n",
    "  - With Anxiety Disorder (medical_history_anx = 1): \n",
    "    - Antidepressants Only: 142 patients\n",
    "    - Combined Treatment: 697 patients"
   ]
  },
  {
   "cell_type": "markdown",
   "metadata": {},
   "source": [
    "## Creating different types of treatment groups."
   ]
  },
  {
   "cell_type": "code",
   "execution_count": null,
   "metadata": {},
   "outputs": [],
   "source": [
    "df_patient_dataset['treatment_combination'] = df_patient_dataset.apply(create_treatment_combination, axis=1)"
   ]
  },
  {
   "cell_type": "code",
   "execution_count": null,
   "metadata": {},
   "outputs": [],
   "source": [
    "mdd_summary = df_patient_dataset['treatment_combination'].value_counts()\n",
    "mdd_summary"
   ]
  }
 ],
 "metadata": {
  "kernelspec": {
   "display_name": "country-enrolment-api",
   "language": "python",
   "name": "python3"
  },
  "language_info": {
   "codemirror_mode": {
    "name": "ipython",
    "version": 3
   },
   "file_extension": ".py",
   "mimetype": "text/x-python",
   "name": "python",
   "nbconvert_exporter": "python",
   "pygments_lexer": "ipython3",
   "version": "3.9.12"
  }
 },
 "nbformat": 4,
 "nbformat_minor": 2
}
